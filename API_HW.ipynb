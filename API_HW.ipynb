{
  "nbformat": 4,
  "nbformat_minor": 0,
  "metadata": {
    "colab": {
      "provenance": []
    },
    "kernelspec": {
      "name": "python3",
      "display_name": "Python 3"
    },
    "language_info": {
      "name": "python"
    }
  },
  "cells": [
    {
      "cell_type": "code",
      "source": [
        "import json\n",
        "import pandas as pd\n",
        "import requests"
      ],
      "metadata": {
        "id": "KWeT_VSdzoFf"
      },
      "execution_count": 32,
      "outputs": []
    },
    {
      "cell_type": "code",
      "source": [
        "stock = input(\"Enter the Ticker Symbol: \")"
      ],
      "metadata": {
        "colab": {
          "base_uri": "https://localhost:8080/"
        },
        "id": "fzdAJlSV00Ym",
        "outputId": "c63bcbaf-92a4-4daa-d28d-8d656e2d480e"
      },
      "execution_count": 34,
      "outputs": [
        {
          "name": "stdout",
          "output_type": "stream",
          "text": [
            "Enter the Ticker Symbol: AAPL\n"
          ]
        }
      ]
    },
    {
      "cell_type": "code",
      "execution_count": 37,
      "metadata": {
        "colab": {
          "base_uri": "https://localhost:8080/",
          "height": 211
        },
        "id": "gkrqJ8sPzkyz",
        "outputId": "fff9c279-a7a3-43d8-9b61-7724e4c3e59d"
      },
      "outputs": [
        {
          "output_type": "error",
          "ename": "KeyError",
          "evalue": "'quoteResponse'",
          "traceback": [
            "\u001b[0;31m---------------------------------------------------------------------------\u001b[0m",
            "\u001b[0;31mKeyError\u001b[0m                                  Traceback (most recent call last)",
            "\u001b[0;32m<ipython-input-37-681e1be73de2>\u001b[0m in \u001b[0;36m<cell line: 18>\u001b[0;34m()\u001b[0m\n\u001b[1;32m     16\u001b[0m \u001b[0mstock_json_1\u001b[0m \u001b[0;34m=\u001b[0m \u001b[0mresponse_1\u001b[0m\u001b[0;34m.\u001b[0m\u001b[0mjson\u001b[0m\u001b[0;34m(\u001b[0m\u001b[0;34m)\u001b[0m\u001b[0;34m\u001b[0m\u001b[0;34m\u001b[0m\u001b[0m\n\u001b[1;32m     17\u001b[0m \u001b[0;34m\u001b[0m\u001b[0m\n\u001b[0;32m---> 18\u001b[0;31m \u001b[0mcompany_name\u001b[0m \u001b[0;34m=\u001b[0m \u001b[0mstock_json_1\u001b[0m\u001b[0;34m[\u001b[0m\u001b[0;34m'quoteResponse'\u001b[0m\u001b[0;34m]\u001b[0m\u001b[0;34m[\u001b[0m\u001b[0;34m'result'\u001b[0m\u001b[0;34m]\u001b[0m\u001b[0;34m[\u001b[0m\u001b[0;36m0\u001b[0m\u001b[0;34m]\u001b[0m\u001b[0;34m[\u001b[0m\u001b[0;34m\"longName\"\u001b[0m\u001b[0;34m]\u001b[0m\u001b[0;34m\u001b[0m\u001b[0;34m\u001b[0m\u001b[0m\n\u001b[0m\u001b[1;32m     19\u001b[0m \u001b[0mcurrent_price\u001b[0m \u001b[0;34m=\u001b[0m \u001b[0mstock_json_1\u001b[0m\u001b[0;34m[\u001b[0m\u001b[0;34m'quoteResponse'\u001b[0m\u001b[0;34m]\u001b[0m\u001b[0;34m[\u001b[0m\u001b[0;34m'result'\u001b[0m\u001b[0;34m]\u001b[0m\u001b[0;34m[\u001b[0m\u001b[0;36m0\u001b[0m\u001b[0;34m]\u001b[0m\u001b[0;34m[\u001b[0m\u001b[0;34m\"regularMarketPrice\"\u001b[0m\u001b[0;34m]\u001b[0m\u001b[0;34m\u001b[0m\u001b[0;34m\u001b[0m\u001b[0m\n\u001b[1;32m     20\u001b[0m \u001b[0mfifty_two_week_high\u001b[0m \u001b[0;34m=\u001b[0m \u001b[0mstock_json_1\u001b[0m\u001b[0;34m[\u001b[0m\u001b[0;34m'quoteResponse'\u001b[0m\u001b[0;34m]\u001b[0m\u001b[0;34m[\u001b[0m\u001b[0;34m'result'\u001b[0m\u001b[0;34m]\u001b[0m\u001b[0;34m[\u001b[0m\u001b[0;36m0\u001b[0m\u001b[0;34m]\u001b[0m\u001b[0;34m[\u001b[0m\u001b[0;34m\"fiftyTwoWeekHigh\"\u001b[0m\u001b[0;34m]\u001b[0m\u001b[0;34m\u001b[0m\u001b[0;34m\u001b[0m\u001b[0m\n",
            "\u001b[0;31mKeyError\u001b[0m: 'quoteResponse'"
          ]
        }
      ],
      "source": [
        "import requests\n",
        "\n",
        "apikey = \"REPLACE WITH KEY\"\n",
        "stock = \"AAPL\"\n",
        "\n",
        "url_1 = \"https://yfapi.net/v6/finance/quote\"\n",
        "url_2 = f\"https://yfapi.net/v11/finance/quoteSummary/{stock}\"\n",
        "url_trending = \"https://yfapi.net/v1/finance/trending/US\"\n",
        "\n",
        "headers = {\n",
        "    'x-api-key': apikey\n",
        "}\n",
        "\n",
        "querystring = {\"symbols\": stock}\n",
        "response_1 = requests.get(url_1, headers=headers, params=querystring)\n",
        "stock_json_1 = response_1.json()\n",
        "\n",
        "company_name = stock_json_1['quoteResponse']['result'][0][\"longName\"]\n",
        "current_price = stock_json_1['quoteResponse']['result'][0][\"regularMarketPrice\"]\n",
        "fifty_two_week_high = stock_json_1['quoteResponse']['result'][0][\"fiftyTwoWeekHigh\"]\n",
        "fifty_two_week_low = stock_json_1['quoteResponse']['result'][0][\"fiftyTwoWeekLow\"]\n",
        "\n",
        "\n",
        "url_2 = f\"https://yfapi.net/v11/finance/quoteSummary/{stock}\"\n",
        "\n",
        "params_2 = {\"modules\": \"financialData\"}\n",
        "response_2 = requests.get(url_2, headers=headers, params=params_2)\n",
        "stock_json_2 = response_2.json()\n",
        "\n",
        "target_mean_price = stock_json_2['quoteSummary']['result'][0]['financialData']['targetMeanPrice']['fmt']\n",
        "\n",
        "print(f\"{company_name} Price: ${current_price}, 52-Week High: ${fifty_two_week_high}, \"\n",
        "      f\"52-Week Low: ${fifty_two_week_low}, Target Mean Price: ${target_mean_price}\")\n",
        "\n",
        "url = \"https://yfapi.net/v1/finance/trending/US\"\n",
        "headers = {'x-api-key': apikey}\n",
        "\n",
        "try:\n",
        "    response = requests.get(url, headers=headers)\n",
        "    response.raise_for_status()\n",
        "    trending_data = response.json()\n",
        "\n",
        "    if 'finance' in trending_data and 'result' in trending_data['finance'] and trending_data['finance']['result']:\n",
        "        quotes = trending_data['finance']['result'][0]['quotes']\n",
        "        trending_symbols = [quote['symbol'] for quote in quotes[:5]]\n",
        "        print(\"Top 5 Trending Symbols:\", trending_symbols)\n",
        "    else:\n",
        "        print(\"Could not locate data.\")\n",
        "\n",
        "except requests.RequestException as e:\n",
        "    print(f\"Rrror occured while getting data from: {e}\")\n",
        "\n",
        "\n",
        "stockData = [\n",
        "    {\n",
        "          \"CompanyName\": company_name,\n",
        "          \" CurrentPrice\": current_price,\n",
        "          \"FiftyTwoWeekHigh\": fifty_two_week_high,\n",
        "          \"FiftyTwoWeekLow\": fifty_two_week_low,\n",
        "          \"TargetMeanPrice\": target_mean_price,\n",
        "          \"TrendingSymbols\": trending_symbols\n",
        "    }\n",
        "]\n",
        "\n",
        "\n",
        "df = pd.DataFrame(stockData)\n",
        "print(df)\n",
        "stockData.to_csv(\"StockData.csv\", index=False)\n"
      ]
    },
    {
      "cell_type": "code",
      "source": [],
      "metadata": {
        "id": "HkQVgCL57BQx"
      },
      "execution_count": null,
      "outputs": []
    },
    {
      "cell_type": "code",
      "source": [],
      "metadata": {
        "id": "Taa85K4v3pe1"
      },
      "execution_count": 16,
      "outputs": []
    }
  ]
}